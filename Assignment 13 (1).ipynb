{
 "cells": [
  {
   "cell_type": "markdown",
   "id": "7a159feb",
   "metadata": {},
   "source": [
    "### Question 1:\n",
    "Write a program that calculates and prints the value according to the given formula:\n",
    "\n",
    "Q = Square root of [(2 * C * D)/H]\n",
    "\n",
    "Following are the fixed values of C and H:\n",
    "\n",
    "C is 50. H is 30.\n",
    "\n",
    "D is the variable whose values should be input to your program in a comma-separated sequence.\n",
    "\n",
    "Example\n",
    "\n",
    "Let us assume the following comma separated input sequence is given to the program:\n",
    "\n",
    "100,150,180\n",
    "\n",
    "The output of the program should be:\n",
    "\n",
    "18,22,24"
   ]
  },
  {
   "cell_type": "code",
   "execution_count": 37,
   "id": "0cf9da0c",
   "metadata": {},
   "outputs": [
    {
     "name": "stdout",
     "output_type": "stream",
     "text": [
      "100,150,180\n",
      "18,22,24\n"
     ]
    }
   ],
   "source": [
    "D=input()\n",
    "l1=D.split(sep=\",\")\n",
    "l=[]\n",
    "for i in l1:\n",
    "    i=int(i)\n",
    "    Q = ((2 * 50 * i)/30)**(1/2)\n",
    "    l.append(int(Q))\n",
    "for j in l:\n",
    "    if j==l[len(l)-1]:\n",
    "        print(j)\n",
    "    else:\n",
    "         print(j,end=\",\")"
   ]
  },
  {
   "cell_type": "markdown",
   "id": "5ef69742",
   "metadata": {},
   "source": [
    "### Question 2:\n",
    "Write a program which takes 2 digits, X,Y as input and generates a 2-dimensional array. The element value in the i-th row and j-th column of the array should be i*j.\n",
    "\n",
    "Note: i=0,1.., X-1; j=0,1,¡Y-1.\n",
    "\n",
    "Example\n",
    "\n",
    "Suppose the following inputs are given to the program:\n",
    "\n",
    "3,5\n",
    "\n",
    "Then, the output of the program should be:\n",
    "\n",
    "[[0, 0, 0, 0, 0], [0, 1, 2, 3, 4], [0, 2, 4, 6, 8]]"
   ]
  },
  {
   "cell_type": "code",
   "execution_count": 56,
   "id": "b7b5052f",
   "metadata": {},
   "outputs": [
    {
     "name": "stdout",
     "output_type": "stream",
     "text": [
      "Enter number of rows3\n",
      "Enter number of columns5\n",
      "[[ 0  1  2  3  4]\n",
      " [ 5  6  7  8  9]\n",
      " [10 11 12 13 14]]\n"
     ]
    }
   ],
   "source": [
    "import numpy as np\n",
    "r=int(input(\"Enter number of rows\"))\n",
    "c=int(input(\"Enter number of columns\"))\n",
    "array= np.arange(c*r)\n",
    "k=array.reshape(r,c)\n",
    "print(k)"
   ]
  },
  {
   "cell_type": "markdown",
   "id": "648ae512",
   "metadata": {},
   "source": [
    "### Question 3:\n",
    "Write a program that accepts a comma separated sequence of words as input and prints the\n",
    "\n",
    "words in a comma-separated sequence after sorting them alphabetically.\n",
    "\n",
    "Suppose the following input is supplied to the program:\n",
    "\n",
    "without,hello,bag,world\n",
    "\n",
    "Then, the output should be:\n",
    "\n",
    "bag,hello,without,world"
   ]
  },
  {
   "cell_type": "code",
   "execution_count": 3,
   "id": "2f93375c",
   "metadata": {},
   "outputs": [
    {
     "name": "stdout",
     "output_type": "stream",
     "text": [
      "without,hello,bag,world\n",
      "bag,hello,without,world\n"
     ]
    }
   ],
   "source": [
    "D=input()\n",
    "l1=D.split(sep=\",\")\n",
    "l1=sorted(l1)\n",
    "for i in l1:\n",
    "    if i==l1[len(l1)-1]:\n",
    "        print(i)\n",
    "    else:\n",
    "        print(i,end=',')\n"
   ]
  },
  {
   "cell_type": "markdown",
   "id": "886bc5d7",
   "metadata": {},
   "source": [
    "### Question 4:\n",
    "Write a program that accepts a sequence of whitespace separated words as input and prints the words after removing all duplicate words and sorting them alphanumerically.\n",
    "\n",
    "Suppose the following input is supplied to the program:\n",
    "\n",
    "hello world and practice makes perfect and hello world again\n",
    "\n",
    "Then, the output should be:\n",
    "\n",
    "again and hello makes perfect practice world"
   ]
  },
  {
   "cell_type": "code",
   "execution_count": 1,
   "id": "ce7034a2",
   "metadata": {},
   "outputs": [
    {
     "name": "stdout",
     "output_type": "stream",
     "text": [
      "hello world and practice makes perfect and hello world again\n",
      "again and hello makes perfect practice world\n"
     ]
    }
   ],
   "source": [
    "D=input()\n",
    "l1=D.split(sep=\" \")\n",
    "l1=set(l1)\n",
    "k=sorted(l1)\n",
    "for i in k:\n",
    "    if i==k[len(k)-1]:\n",
    "        print(i)\n",
    "    else:\n",
    "        print(i,end=\" \")"
   ]
  },
  {
   "cell_type": "markdown",
   "id": "65c78964",
   "metadata": {},
   "source": [
    "### Question 5:\n",
    "Write a program that accepts a sentence and calculate the number of letters and digits.\n",
    "\n",
    "Suppose the following input is supplied to the program:\n",
    "\n",
    "hello world! 123\n",
    "\n",
    "Then, the output should be:\n",
    "\n",
    "LETTERS 10\n",
    "\n",
    "DIGITS 3"
   ]
  },
  {
   "cell_type": "code",
   "execution_count": 9,
   "id": "159c50e8",
   "metadata": {},
   "outputs": [
    {
     "name": "stdout",
     "output_type": "stream",
     "text": [
      "hello world! 123\n",
      "LETTERS  10\n",
      "DIGITS  3\n"
     ]
    }
   ],
   "source": [
    "p=input()\n",
    "k=0\n",
    "h=0\n",
    "l=0\n",
    "o=\"!@#$%^&*()_-+}{][|\\\"\\'.,?\"\n",
    "for i in p:\n",
    "    try:\n",
    "        if i==\" \" or i in o :\n",
    "            continue\n",
    "        else:\n",
    "            l=int(i)\n",
    "            h+=1\n",
    "    except:\n",
    "        k+=1\n",
    "print(\"LETTERS \",k)\n",
    "print(\"DIGITS \",h)"
   ]
  },
  {
   "cell_type": "markdown",
   "id": "132d40d2",
   "metadata": {},
   "source": [
    "### Question 6:\n",
    "A website requires the users to input username and password to register. Write a program to\n",
    "check the validity of password input by users.\n",
    "\n",
    "Following are the criteria for checking the password:\n",
    "\n",
    "1. At least 1 letter between [a-z]\n",
    "\n",
    "2. At least 1 number between [0-9]\n",
    "\n",
    "1. At least 1 letter between [A-Z]\n",
    "\n",
    "3. At least 1 character from [$#@]\n",
    "\n",
    "4. Minimum length of transaction password: 6\n",
    "\n",
    "5. Maximum length of transaction password: 12\n",
    "\n",
    "Your program should accept a sequence of comma separated passwords and will check them\n",
    "according to the above criteria. Passwords that match the criteria are to be printed, each\n",
    "separated by a comma.\n",
    "\n",
    "Example\n",
    "\n",
    "\n",
    "If the following passwords are given as input to the program:\n",
    "\n",
    "ABd1234@1F1#,2w3E*,2We3345\n",
    "\n",
    "Then, the output of the program should be:\n",
    "\n",
    "ABd1234@1\n"
   ]
  },
  {
   "cell_type": "code",
   "execution_count": 39,
   "id": "66d17c0c",
   "metadata": {},
   "outputs": [],
   "source": [
    "def Check_uppercase(n):\n",
    "    inc=0\n",
    "    up=\"ABCDEFGHIJKLMNOPQRSTUVWXYZ\"\n",
    "    for i in n:\n",
    "        if i in up:\n",
    "            inc+=1\n",
    "    if inc>=1:\n",
    "        return True\n",
    "    else:\n",
    "        return False\n",
    "def Check_lowercase(n):\n",
    "    inc=0\n",
    "    up=(\"ABCDEFGHIJKLMNOPQRSTUVWXYZ\").lower()\n",
    "    for i in n:\n",
    "        if i in up:\n",
    "            inc+=1\n",
    "    if inc>=1:\n",
    "        return True\n",
    "    else:\n",
    "        return False\n",
    "def Check_specialchar(n):\n",
    "    inc=0\n",
    "    up=\"$#@\"\n",
    "    for i in n:\n",
    "        if i in up:\n",
    "            inc+=1\n",
    "    if inc>=1:\n",
    "        return True\n",
    "    else:\n",
    "        return False\n",
    "def Check_Number(n):\n",
    "    inc=0\n",
    "    up=\"1234567890\"\n",
    "    for i in n:\n",
    "        if i in up:\n",
    "            inc+=1\n",
    "    if inc>=1:\n",
    "        return True\n",
    "    else:\n",
    "        return False"
   ]
  },
  {
   "cell_type": "code",
   "execution_count": 57,
   "id": "2f3c824d",
   "metadata": {},
   "outputs": [
    {
     "name": "stdout",
     "output_type": "stream",
     "text": [
      "Enter password :ABd1234@1F1#,2w3E*,2We3345\n",
      "Password length should be in between 6 - 12 characters\n",
      "ABd1234@1F1#\n"
     ]
    }
   ],
   "source": [
    "ip=input(\"Enter password :\")\n",
    "inp=ip.split(sep=\",\")\n",
    "l=\"\"\n",
    "le=[]\n",
    "for j in inp:\n",
    "    if len(j)>=6 and len(j)<=12:\n",
    "            if  (Check_lowercase(j))==True and (Check_uppercase(j)==True) and (Check_specialchar(j)==True) and (Check_Number(j)==True):\n",
    "                    le.append(j)\n",
    "                    continue\n",
    "            else:\n",
    "                print(\"Password should contain :\")\n",
    "                print(\"1. At least 1 letter between [a-z]\\n2. At least 1 number between [0-9]\\n1. At least 1 letter between [A-Z]\\n3. At least 1 character from [$#@]\")\n",
    "                break\n",
    "            \n",
    "    else:\n",
    "        print(\"Password length should be in between 6 - 12 characters\")\n",
    "        break\n",
    "for i in range(len(le)):\n",
    "    if i==len(le)-1:\n",
    "        print(le[i])\n",
    "    else:\n",
    "        print(le[i],end=\",\")"
   ]
  }
 ],
 "metadata": {
  "kernelspec": {
   "display_name": "Python 3",
   "language": "python",
   "name": "python3"
  },
  "language_info": {
   "codemirror_mode": {
    "name": "ipython",
    "version": 3
   },
   "file_extension": ".py",
   "mimetype": "text/x-python",
   "name": "python",
   "nbconvert_exporter": "python",
   "pygments_lexer": "ipython3",
   "version": "3.8.8"
  }
 },
 "nbformat": 4,
 "nbformat_minor": 5
}
